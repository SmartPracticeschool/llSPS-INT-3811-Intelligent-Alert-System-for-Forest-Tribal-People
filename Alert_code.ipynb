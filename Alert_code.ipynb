{
 "cells": [
  {
   "cell_type": "code",
   "execution_count": null,
   "metadata": {},
   "outputs": [],
   "source": [
    "from tensorflow.keras.models import load_model\n",
    "from tensorflow.keras.preprocessing import image \n",
    "import numpy as np\n",
    "import cv2\n",
    "import smtplib\n",
    "from email.mime.multipart import MIMEMultipart \n",
    "from email.mime.text import MIMEText \n",
    "from email.mime.base import MIMEBase \n",
    "from email import encoders"
   ]
  },
  {
   "cell_type": "code",
   "execution_count": null,
   "metadata": {},
   "outputs": [],
   "source": [
    "from tensorflow.keras.preprocessing import image \n",
    "from tensorflow.keras.models  import load_model\n",
    "from playsound import playsound\n",
    "from tkinter import *\n",
    "from tkinter import messagebox\n",
    "import time"
   ]
  },
  {
   "cell_type": "code",
   "execution_count": null,
   "metadata": {
    "scrolled": false
   },
   "outputs": [],
   "source": [
    "#loading the model\n",
    "def predict_animal(model,x):\n",
    "     pred = model.predict_classes(x)\n",
    "     return pred[0][0]\n",
    "def email():\n",
    "    gmail_user = 'jm573790@gmail.com'   #email id without @gmail.com\n",
    "    gmail_password = 'Ab123@456'\n",
    "    #to and from addresses\n",
    "    sent_from = gmail_user\n",
    "    to = ['basavarajlpb@gmail.com']\n",
    "        \n",
    "    #email properties\n",
    "    msg=MIMEMultipart()\n",
    "    msg['Subject']='Alert!!'\n",
    "    Subject = 'Alert!!'\n",
    "    body = \"\"\"Alert for Wild Animal detection, stay safe\"\"\"\n",
    "    msg.attach(MIMEText(body,'plain'))\n",
    "        \n",
    "    server = smtplib.SMTP_SSL('smtp.gmail.com', 465)\n",
    "    server.ehlo()\n",
    "    server.login(gmail_user, gmail_password)\n",
    "    server.sendmail(sent_from, to, msg.as_string())\n",
    "    server.close()\n",
    "    print(\"email sent\")\n",
    "    return\n",
    "    \n",
    "model = load_model('animal.h5') \n",
    "video = cv2.VideoCapture(0)\n",
    "name = ['domestic_animal','wild_animal']\n",
    "count=0\n",
    "while(1):\n",
    "    success, frame = video.read()\n",
    "    cv2.imwrite(\"image.jpg\",frame)\n",
    "    img = image.load_img(\"image.jpg\",target_size = (64,64))\n",
    "    x  = image.img_to_array(img)\n",
    "    x = np.expand_dims(x,axis = 0)\n",
    "    p=predict_animal(model,x)\n",
    "    print(name[p])\n",
    "    flag=0\n",
    "    if p==1:\n",
    "        email()\n",
    "        #alerting by playing alarm\n",
    "        playsound(r'danger.mp3')\n",
    "        flag=1\n",
    "    cv2.imshow(\"image\",frame)\n",
    "    if cv2.waitKey(1) & 0xFF == ord('a'): \n",
    "        break\n",
    "    if flag==1:\n",
    "        continue\n",
    "video.release()\n",
    "cv2.destroyAllWindows()"
   ]
  },
  {
   "cell_type": "code",
   "execution_count": null,
   "metadata": {},
   "outputs": [],
   "source": []
  },
  {
   "cell_type": "code",
   "execution_count": null,
   "metadata": {},
   "outputs": [],
   "source": []
  }
 ],
 "metadata": {
  "kernelspec": {
   "display_name": "Python 3",
   "language": "python",
   "name": "python3"
  },
  "language_info": {
   "codemirror_mode": {
    "name": "ipython",
    "version": 3
   },
   "file_extension": ".py",
   "mimetype": "text/x-python",
   "name": "python",
   "nbconvert_exporter": "python",
   "pygments_lexer": "ipython3",
   "version": "3.7.7"
  }
 },
 "nbformat": 4,
 "nbformat_minor": 4
}
